{
  "nbformat": 4,
  "nbformat_minor": 0,
  "metadata": {
    "kernelspec": {
      "display_name": "Python 3",
      "language": "python",
      "name": "python3"
    },
    "language_info": {
      "codemirror_mode": {
        "name": "ipython",
        "version": 3
      },
      "file_extension": ".py",
      "mimetype": "text/x-python",
      "name": "python",
      "nbconvert_exporter": "python",
      "pygments_lexer": "ipython3",
      "version": "3.7.3"
    },
    "colab": {
      "name": "Spam Classification .ipynb",
      "provenance": []
    }
  },
  "cells": [
    {
      "cell_type": "markdown",
      "metadata": {
        "id": "-KzX_NUfklfr"
      },
      "source": [
        "# Demo - Understanding data set"
      ]
    },
    {
      "cell_type": "code",
      "metadata": {
        "id": "1S9vQrj5LI7Z"
      },
      "source": [
        "import pandas as pd # mainly works with tabular data(spreadsheets)\n",
        "import numpy as np  # for calculations\n",
        "import spacy    #  natural language processing "
      ],
      "execution_count": null,
      "outputs": []
    },
    {
      "cell_type": "code",
      "metadata": {
        "id": "EeSJ5Qm6LI7d"
      },
      "source": [
        "nlp = spacy.load('en_core_web_sm') # english language "
      ],
      "execution_count": null,
      "outputs": []
    },
    {
      "cell_type": "code",
      "metadata": {
        "id": "FGBDl6CVLI7e"
      },
      "source": [
        "data = pd.read_csv('spam.csv',encoding='cp1252')  # data set  "
      ],
      "execution_count": null,
      "outputs": []
    },
    {
      "cell_type": "code",
      "metadata": {
        "id": "58G1Cz0CLI7g",
        "colab": {
          "base_uri": "https://localhost:8080/",
          "height": 203
        },
        "outputId": "932ad50e-8978-45ed-eea3-d1b8098c4719"
      },
      "source": [
        "data.head()"
      ],
      "execution_count": null,
      "outputs": [
        {
          "output_type": "execute_result",
          "data": {
            "text/html": [
              "<div>\n",
              "<style scoped>\n",
              "    .dataframe tbody tr th:only-of-type {\n",
              "        vertical-align: middle;\n",
              "    }\n",
              "\n",
              "    .dataframe tbody tr th {\n",
              "        vertical-align: top;\n",
              "    }\n",
              "\n",
              "    .dataframe thead th {\n",
              "        text-align: right;\n",
              "    }\n",
              "</style>\n",
              "<table border=\"1\" class=\"dataframe\">\n",
              "  <thead>\n",
              "    <tr style=\"text-align: right;\">\n",
              "      <th></th>\n",
              "      <th>v1</th>\n",
              "      <th>v2</th>\n",
              "      <th>Unnamed: 2</th>\n",
              "      <th>Unnamed: 3</th>\n",
              "      <th>Unnamed: 4</th>\n",
              "    </tr>\n",
              "  </thead>\n",
              "  <tbody>\n",
              "    <tr>\n",
              "      <th>0</th>\n",
              "      <td>ham</td>\n",
              "      <td>Go until jurong point, crazy.. Available only ...</td>\n",
              "      <td>NaN</td>\n",
              "      <td>NaN</td>\n",
              "      <td>NaN</td>\n",
              "    </tr>\n",
              "    <tr>\n",
              "      <th>1</th>\n",
              "      <td>ham</td>\n",
              "      <td>Ok lar... Joking wif u oni...</td>\n",
              "      <td>NaN</td>\n",
              "      <td>NaN</td>\n",
              "      <td>NaN</td>\n",
              "    </tr>\n",
              "    <tr>\n",
              "      <th>2</th>\n",
              "      <td>spam</td>\n",
              "      <td>Free entry in 2 a wkly comp to win FA Cup fina...</td>\n",
              "      <td>NaN</td>\n",
              "      <td>NaN</td>\n",
              "      <td>NaN</td>\n",
              "    </tr>\n",
              "    <tr>\n",
              "      <th>3</th>\n",
              "      <td>ham</td>\n",
              "      <td>U dun say so early hor... U c already then say...</td>\n",
              "      <td>NaN</td>\n",
              "      <td>NaN</td>\n",
              "      <td>NaN</td>\n",
              "    </tr>\n",
              "    <tr>\n",
              "      <th>4</th>\n",
              "      <td>ham</td>\n",
              "      <td>Nah I don't think he goes to usf, he lives aro...</td>\n",
              "      <td>NaN</td>\n",
              "      <td>NaN</td>\n",
              "      <td>NaN</td>\n",
              "    </tr>\n",
              "  </tbody>\n",
              "</table>\n",
              "</div>"
            ],
            "text/plain": [
              "     v1  ... Unnamed: 4\n",
              "0   ham  ...        NaN\n",
              "1   ham  ...        NaN\n",
              "2  spam  ...        NaN\n",
              "3   ham  ...        NaN\n",
              "4   ham  ...        NaN\n",
              "\n",
              "[5 rows x 5 columns]"
            ]
          },
          "metadata": {},
          "execution_count": 4
        }
      ]
    },
    {
      "cell_type": "code",
      "metadata": {
        "id": "q4rmGlkgLI7i"
      },
      "source": [
        "data = data[['v1','v2']]"
      ],
      "execution_count": null,
      "outputs": []
    },
    {
      "cell_type": "code",
      "metadata": {
        "id": "_msguGpqLI7j"
      },
      "source": [
        "data['v1'] = data['v1'].apply(lambda x:0 if x=='ham' else 1)    # if(x==\"ham\") 0 else 1"
      ],
      "execution_count": null,
      "outputs": []
    },
    {
      "cell_type": "code",
      "metadata": {
        "id": "MRPlFjQRLI7k",
        "colab": {
          "base_uri": "https://localhost:8080/",
          "height": 417
        },
        "outputId": "eaf0ca60-a56c-42e6-91a7-fcd57bd3e368"
      },
      "source": [
        "data"
      ],
      "execution_count": null,
      "outputs": [
        {
          "output_type": "execute_result",
          "data": {
            "text/html": [
              "<div>\n",
              "<style scoped>\n",
              "    .dataframe tbody tr th:only-of-type {\n",
              "        vertical-align: middle;\n",
              "    }\n",
              "\n",
              "    .dataframe tbody tr th {\n",
              "        vertical-align: top;\n",
              "    }\n",
              "\n",
              "    .dataframe thead th {\n",
              "        text-align: right;\n",
              "    }\n",
              "</style>\n",
              "<table border=\"1\" class=\"dataframe\">\n",
              "  <thead>\n",
              "    <tr style=\"text-align: right;\">\n",
              "      <th></th>\n",
              "      <th>v1</th>\n",
              "      <th>v2</th>\n",
              "    </tr>\n",
              "  </thead>\n",
              "  <tbody>\n",
              "    <tr>\n",
              "      <th>0</th>\n",
              "      <td>0</td>\n",
              "      <td>Go until jurong point, crazy.. Available only ...</td>\n",
              "    </tr>\n",
              "    <tr>\n",
              "      <th>1</th>\n",
              "      <td>0</td>\n",
              "      <td>Ok lar... Joking wif u oni...</td>\n",
              "    </tr>\n",
              "    <tr>\n",
              "      <th>2</th>\n",
              "      <td>1</td>\n",
              "      <td>Free entry in 2 a wkly comp to win FA Cup fina...</td>\n",
              "    </tr>\n",
              "    <tr>\n",
              "      <th>3</th>\n",
              "      <td>0</td>\n",
              "      <td>U dun say so early hor... U c already then say...</td>\n",
              "    </tr>\n",
              "    <tr>\n",
              "      <th>4</th>\n",
              "      <td>0</td>\n",
              "      <td>Nah I don't think he goes to usf, he lives aro...</td>\n",
              "    </tr>\n",
              "    <tr>\n",
              "      <th>...</th>\n",
              "      <td>...</td>\n",
              "      <td>...</td>\n",
              "    </tr>\n",
              "    <tr>\n",
              "      <th>5567</th>\n",
              "      <td>1</td>\n",
              "      <td>This is the 2nd time we have tried 2 contact u...</td>\n",
              "    </tr>\n",
              "    <tr>\n",
              "      <th>5568</th>\n",
              "      <td>0</td>\n",
              "      <td>Will Ì_ b going to esplanade fr home?</td>\n",
              "    </tr>\n",
              "    <tr>\n",
              "      <th>5569</th>\n",
              "      <td>0</td>\n",
              "      <td>Pity, * was in mood for that. So...any other s...</td>\n",
              "    </tr>\n",
              "    <tr>\n",
              "      <th>5570</th>\n",
              "      <td>0</td>\n",
              "      <td>The guy did some bitching but I acted like i'd...</td>\n",
              "    </tr>\n",
              "    <tr>\n",
              "      <th>5571</th>\n",
              "      <td>0</td>\n",
              "      <td>Rofl. Its true to its name</td>\n",
              "    </tr>\n",
              "  </tbody>\n",
              "</table>\n",
              "<p>5572 rows × 2 columns</p>\n",
              "</div>"
            ],
            "text/plain": [
              "      v1                                                 v2\n",
              "0      0  Go until jurong point, crazy.. Available only ...\n",
              "1      0                      Ok lar... Joking wif u oni...\n",
              "2      1  Free entry in 2 a wkly comp to win FA Cup fina...\n",
              "3      0  U dun say so early hor... U c already then say...\n",
              "4      0  Nah I don't think he goes to usf, he lives aro...\n",
              "...   ..                                                ...\n",
              "5567   1  This is the 2nd time we have tried 2 contact u...\n",
              "5568   0              Will Ì_ b going to esplanade fr home?\n",
              "5569   0  Pity, * was in mood for that. So...any other s...\n",
              "5570   0  The guy did some bitching but I acted like i'd...\n",
              "5571   0                         Rofl. Its true to its name\n",
              "\n",
              "[5572 rows x 2 columns]"
            ]
          },
          "metadata": {},
          "execution_count": 7
        }
      ]
    },
    {
      "cell_type": "markdown",
      "metadata": {
        "id": "JwnWowuTksN1"
      },
      "source": [
        "# Demo 2 - Text Pre-Processing"
      ]
    },
    {
      "cell_type": "code",
      "metadata": {
        "id": "ui4UYQNlLI7l"
      },
      "source": [
        "def process(x):\n",
        "    temp = []\n",
        "    document = nlp(x.lower())   # tokenization\n",
        "    for i in document:\n",
        "        if i.is_stop!=True and i.is_punct!= True:  # stop words removal\n",
        "            temp.append(i.lemma_)   #lemmatization\n",
        "        else:\n",
        "            pass\n",
        "        \n",
        "    return (' '.join(temp))  # make sentence "
      ],
      "execution_count": null,
      "outputs": []
    },
    {
      "cell_type": "code",
      "metadata": {
        "id": "9HV1aNgpLI7m"
      },
      "source": [
        "data['v2'] = data['v2'].apply(lambda x: process(x))"
      ],
      "execution_count": null,
      "outputs": []
    },
    {
      "cell_type": "code",
      "metadata": {
        "colab": {
          "base_uri": "https://localhost:8080/",
          "height": 203
        },
        "id": "KF9b8GJgLI7n",
        "outputId": "a8a905e8-e756-4af7-c4ee-328d347c5e4d"
      },
      "source": [
        "data.head()"
      ],
      "execution_count": null,
      "outputs": [
        {
          "output_type": "execute_result",
          "data": {
            "text/html": [
              "<div>\n",
              "<style scoped>\n",
              "    .dataframe tbody tr th:only-of-type {\n",
              "        vertical-align: middle;\n",
              "    }\n",
              "\n",
              "    .dataframe tbody tr th {\n",
              "        vertical-align: top;\n",
              "    }\n",
              "\n",
              "    .dataframe thead th {\n",
              "        text-align: right;\n",
              "    }\n",
              "</style>\n",
              "<table border=\"1\" class=\"dataframe\">\n",
              "  <thead>\n",
              "    <tr style=\"text-align: right;\">\n",
              "      <th></th>\n",
              "      <th>v1</th>\n",
              "      <th>v2</th>\n",
              "    </tr>\n",
              "  </thead>\n",
              "  <tbody>\n",
              "    <tr>\n",
              "      <th>0</th>\n",
              "      <td>0</td>\n",
              "      <td>jurong point crazy available bugis n great wor...</td>\n",
              "    </tr>\n",
              "    <tr>\n",
              "      <th>1</th>\n",
              "      <td>0</td>\n",
              "      <td>ok lar joke wif u oni</td>\n",
              "    </tr>\n",
              "    <tr>\n",
              "      <th>2</th>\n",
              "      <td>1</td>\n",
              "      <td>free entry 2 wkly comp win fa cup final tkts 2...</td>\n",
              "    </tr>\n",
              "    <tr>\n",
              "      <th>3</th>\n",
              "      <td>0</td>\n",
              "      <td>u dun early hor u c</td>\n",
              "    </tr>\n",
              "    <tr>\n",
              "      <th>4</th>\n",
              "      <td>0</td>\n",
              "      <td>nah think go usf live</td>\n",
              "    </tr>\n",
              "  </tbody>\n",
              "</table>\n",
              "</div>"
            ],
            "text/plain": [
              "   v1                                                 v2\n",
              "0   0  jurong point crazy available bugis n great wor...\n",
              "1   0                              ok lar joke wif u oni\n",
              "2   1  free entry 2 wkly comp win fa cup final tkts 2...\n",
              "3   0                                u dun early hor u c\n",
              "4   0                              nah think go usf live"
            ]
          },
          "metadata": {},
          "execution_count": 10
        }
      ]
    },
    {
      "cell_type": "code",
      "metadata": {
        "id": "OZGwzK05LI7o"
      },
      "source": [
        "from sklearn.feature_extraction.text import TfidfVectorizer"
      ],
      "execution_count": null,
      "outputs": []
    },
    {
      "cell_type": "code",
      "metadata": {
        "id": "Qb5p03t_LI7p"
      },
      "source": [
        "vectorizer = TfidfVectorizer(analyzer='word',stop_words='english')  # vectorization : words and pharses into vectors"
      ],
      "execution_count": null,
      "outputs": []
    },
    {
      "cell_type": "code",
      "metadata": {
        "id": "iGtb4SwKLI7q"
      },
      "source": [
        "text_vector = vectorizer.fit_transform(data['v2'].values.tolist())"
      ],
      "execution_count": null,
      "outputs": []
    },
    {
      "cell_type": "code",
      "metadata": {
        "colab": {
          "base_uri": "https://localhost:8080/"
        },
        "id": "CcrgmXNKBr0W",
        "outputId": "c74561de-0147-4d85-cb14-2dff0b606d52"
      },
      "source": [
        "print(text_vector)"
      ],
      "execution_count": null,
      "outputs": [
        {
          "output_type": "stream",
          "name": "stdout",
          "text": [
            "  (0, 7072)\t0.19863129993143025\n",
            "  (0, 1016)\t0.35890799882424634\n",
            "  (0, 1839)\t0.3032069277494209\n",
            "  (0, 1590)\t0.34261647990985794\n",
            "  (0, 3887)\t0.3032069277494209\n",
            "  (0, 7242)\t0.24060094265073245\n",
            "  (0, 3166)\t0.1975304138199145\n",
            "  (0, 1592)\t0.3032069277494209\n",
            "  (0, 1209)\t0.2684514781881452\n",
            "  (0, 2071)\t0.2729205052435625\n",
            "  (0, 5116)\t0.257424652517704\n",
            "  (0, 3779)\t0.35890799882424634\n",
            "  (1, 4789)\t0.5647537939557097\n",
            "  (1, 7165)\t0.4459451111953121\n",
            "  (1, 3746)\t0.47451057922863127\n",
            "  (1, 3921)\t0.4218684931830353\n",
            "  (1, 4765)\t0.2811632882742994\n",
            "  (2, 77)\t0.2395244966956236\n",
            "  (2, 1088)\t0.17132935684973827\n",
            "  (2, 5400)\t0.16473274253951514\n",
            "  (2, 6786)\t0.1254671678341206\n",
            "  (2, 6201)\t0.2005836640243086\n",
            "  (2, 5355)\t0.16820504287497096\n",
            "  (2, 5442)\t0.16539371122554727\n",
            "  (2, 775)\t0.22517546975215236\n",
            "  :\t:\n",
            "  (5567, 460)\t0.24331799189705156\n",
            "  (5567, 6755)\t0.1924906650388016\n",
            "  (5567, 4554)\t0.25504800078010476\n",
            "  (5567, 6610)\t0.1645623122369073\n",
            "  (5567, 5171)\t0.2459387918665145\n",
            "  (5567, 1845)\t0.19354805892700622\n",
            "  (5567, 5254)\t0.2027661466146115\n",
            "  (5567, 5400)\t0.23045936371388273\n",
            "  (5567, 7176)\t0.18351358884559557\n",
            "  (5568, 2626)\t0.6964402301279243\n",
            "  (5568, 2911)\t0.6009943905379231\n",
            "  (5568, 3381)\t0.39214378536617706\n",
            "  (5569, 5056)\t0.6198322100581006\n",
            "  (5569, 6315)\t0.5916968433151221\n",
            "  (5569, 4438)\t0.5154637494387073\n",
            "  (5570, 1414)\t0.5014777884908822\n",
            "  (5570, 885)\t0.45003672389238514\n",
            "  (5570, 3609)\t0.4236504621825172\n",
            "  (5570, 3212)\t0.3096047366352092\n",
            "  (5570, 1618)\t0.2972617049751718\n",
            "  (5570, 4001)\t0.23341155414760634\n",
            "  (5570, 7110)\t0.269327268387026\n",
            "  (5570, 2922)\t0.23509469452312493\n",
            "  (5571, 5605)\t0.7930026248542038\n",
            "  (5571, 6747)\t0.6092182178615007\n"
          ]
        }
      ]
    },
    {
      "cell_type": "markdown",
      "metadata": {
        "id": "IU7tiHmvk5Fe"
      },
      "source": [
        "# Demo 3 - Splitting Data set"
      ]
    },
    {
      "cell_type": "code",
      "metadata": {
        "id": "wKLkwbufLI7r"
      },
      "source": [
        "from sklearn.model_selection import train_test_split"
      ],
      "execution_count": null,
      "outputs": []
    },
    {
      "cell_type": "code",
      "metadata": {
        "id": "c00ub7hiLI7s"
      },
      "source": [
        "x_train, x_test, y_train, y_test = train_test_split(text_vector.toarray(),data['v1'],test_size=0.2,random_state=20)"
      ],
      "execution_count": null,
      "outputs": []
    },
    {
      "cell_type": "markdown",
      "metadata": {
        "id": "zaJLHaPnk-RV"
      },
      "source": [
        "# Demo 4 - Model Building"
      ]
    },
    {
      "cell_type": "code",
      "metadata": {
        "id": "IicSxWPXLI7t"
      },
      "source": [
        "from sklearn.naive_bayes import BernoulliNB   #bayes theorem of Probability uses (naive_bayes)  BernoulliNB basiccally for Binary classification \n",
        "\n",
        "# NAIVE BAYES CLASSIFIER -> two tyes : Binary(BernoulliNB) or Multi(MultinomialNB)"
      ],
      "execution_count": null,
      "outputs": []
    },
    {
      "cell_type": "code",
      "metadata": {
        "id": "lNx0PD7OLI7t",
        "colab": {
          "base_uri": "https://localhost:8080/"
        },
        "outputId": "998d9f36-62f3-4330-a115-e6a58171a905"
      },
      "source": [
        "modelB = BernoulliNB()\n",
        "modelB.fit(x_train,y_train)\n",
        "print(modelB.score(x_train,y_train))"
      ],
      "execution_count": null,
      "outputs": [
        {
          "output_type": "stream",
          "name": "stdout",
          "text": [
            "0.9845187345748261\n"
          ]
        }
      ]
    },
    {
      "cell_type": "code",
      "metadata": {
        "id": "W8xCQ9DWLI7y"
      },
      "source": [
        "y_predictedB = modelB.predict(x_test)"
      ],
      "execution_count": null,
      "outputs": []
    },
    {
      "cell_type": "code",
      "metadata": {
        "id": "lzWv2hAuLI7z",
        "colab": {
          "base_uri": "https://localhost:8080/"
        },
        "outputId": "cecb6b64-d0ec-4fe9-d7e7-ff97e573514c"
      },
      "source": [
        "from sklearn.metrics import accuracy_score  \n",
        "\n",
        "print(accuracy_score(y_test,y_predictedB))"
      ],
      "execution_count": null,
      "outputs": [
        {
          "output_type": "stream",
          "name": "stdout",
          "text": [
            "0.9829596412556054\n"
          ]
        }
      ]
    },
    {
      "cell_type": "markdown",
      "metadata": {
        "id": "Bi86Ym_4LI72"
      },
      "source": [
        "## Best model is BernoulliNB with  98% Accuracy"
      ]
    }
  ]
}